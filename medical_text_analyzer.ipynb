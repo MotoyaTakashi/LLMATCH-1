{
 "cells": [
  {
   "cell_type": "markdown",
   "metadata": {},
   "source": [
    "# 医療テキスト分析システム\n",
    "\n",
    "このノートブックでは以下の機能を実行できます：\n",
    "1. ダミーデータの生成\n",
    "2. LLMサーバーの起動確認\n",
    "3. テキスト分析の実行\n",
    "4. 結果の確認と保存"
   ]
  },
  {
   "cell_type": "code",
   "execution_count": 7,
   "metadata": {},
   "outputs": [],
   "source": [
    "import sys\n",
    "import os\n",
    "import pandas as pd\n",
    "import requests\n",
    "from IPython.display import display\n",
    "from openai import OpenAI\n",
    "\n",
    "# srcディレクトリをパスに追加\n",
    "module_path = os.path.abspath(os.path.join('..'))\n",
    "if module_path not in sys.path:\n",
    "    sys.path.append(module_path)\n",
    "\n",
    "from src.data.data_generator import MedicalDataGenerator\n",
    "from src.analyzer.excel_analyzer import ExcelAnalyzer"
   ]
  },
  {
   "cell_type": "markdown",
   "metadata": {},
   "source": [
    "## 1. LLMサーバーの起動確認\n",
    "\n",
    "**注意**: 別ターミナルで `python src/analyzer/llm_server.py` を実行してサーバーを起動しておく必要があります。"
   ]
  },
  {
   "cell_type": "code",
   "execution_count": 2,
   "metadata": {},
   "outputs": [
    {
     "name": "stdout",
     "output_type": "stream",
     "text": [
      "✅ LLMサーバーが正常に動作しています\n",
      "✅ APIエンドポイントも利用可能です\n"
     ]
    },
    {
     "data": {
      "text/plain": [
       "True"
      ]
     },
     "execution_count": 2,
     "metadata": {},
     "output_type": "execute_result"
    }
   ],
   "source": [
    "def check_llm_server():\n",
    "    server_url = \"http://localhost:8000\"\n",
    "    try:\n",
    "        # ヘルスチェックエンドポイントを確認\n",
    "        health_response = requests.get(f\"{server_url}/health\", timeout=5)\n",
    "        if health_response.status_code == 200:\n",
    "            print(\"✅ LLMサーバーが正常に動作しています\")\n",
    "            \n",
    "            # APIエンドポイントも確認\n",
    "            api_response = requests.get(f\"{server_url}/v1/chat/completions\", timeout=5)\n",
    "            if api_response.status_code == 405:  # POSTメソッドのみ許可される場合\n",
    "                print(\"✅ APIエンドポイントも利用可能です\")\n",
    "                return True\n",
    "            else:\n",
    "                print(\"⚠️ APIエンドポイントが応答しませんでした\")\n",
    "                print(f\"ステータスコード: {api_response.status_code}\")\n",
    "                return False\n",
    "    except requests.exceptions.ConnectionError:\n",
    "        print(\"❌ LLMサーバーに接続できません\")\n",
    "        print(f\"サーバーURL: {server_url}\")\n",
    "        print(\"\\n以下を確認してください：\")\n",
    "        print(\"1. サーバーが起動しているか\")\n",
    "        print(\"2. URLが正しいか\")\n",
    "        print(\"3. ファイアウォールの設定\")\n",
    "        print(\"\\nサーバー起動コマンド：\")\n",
    "        print(\"python src/analyzer/llm_server.py\")\n",
    "    except requests.exceptions.Timeout:\n",
    "        print(\"❌ サーバーの応答がタイムアウトしました\")\n",
    "    except Exception as e:\n",
    "        print(f\"❌ 予期せぬエラーが発生しました: {str(e)}\")\n",
    "    return False\n",
    "\n",
    "# サーバーの状態を確認\n",
    "check_llm_server()"
   ]
  },
  {
   "cell_type": "markdown",
   "metadata": {},
   "source": [
    "### テスト呼び出し"
   ]
  },
  {
   "cell_type": "code",
   "execution_count": 3,
   "metadata": {},
   "outputs": [
    {
     "name": "stdout",
     "output_type": "stream",
     "text": [
      "✅ LLMサーバーのテスト呼び出しに成功しました\n",
      "応答結果: Completion(id='cmpl-b46586835c364f9e95776c40a247dd56', choices=[CompletionChoice(finish_reason='length', index=0, logprobs=None, text=' rock supergroup that formed in San Francisco, California, in 201', stop_reason=None, prompt_logprobs=None)], created=1739449171, model='Qwen/Qwen2.5-72B-Instruct-GPTQ-Int4', object='text_completion', system_fingerprint=None, usage=CompletionUsage(completion_tokens=16, prompt_tokens=4, total_tokens=20, completion_tokens_details=None, prompt_tokens_details=None))\n"
     ]
    }
   ],
   "source": [
    "# OpenAIクライアントの初期化\n",
    "client = OpenAI(\n",
    "    api_key=\"EMPTY\",\n",
    "    base_url=\"http://localhost:8000/v1\"\n",
    ")\n",
    "\n",
    "try:\n",
    "    # テスト呼び出し\n",
    "    completion = client.completions.create(\n",
    "        model=\"Qwen/Qwen2.5-72B-Instruct-GPTQ-Int4\",\n",
    "        prompt=\"San Francisco is a\"\n",
    "    )\n",
    "    print(\"✅ LLMサーバーのテスト呼び出しに成功しました\")\n",
    "    print(\"応答結果:\", completion)\n",
    "except Exception as e:\n",
    "    print(\"❌ LLMサーバーのテスト呼び出しに失敗しました\")\n",
    "    print(f\"エラー内容: {str(e)}\")\n"
   ]
  },
  {
   "cell_type": "markdown",
   "metadata": {},
   "source": [
    "## 2. テキスト分析の実行\n",
    "\n",
    "生成したデータに対して、各種分析を実行します。"
   ]
  },
  {
   "cell_type": "code",
   "execution_count": 8,
   "metadata": {},
   "outputs": [
    {
     "name": "stdout",
     "output_type": "stream",
     "text": [
      "テンプレートを読み込みました（7件）\n",
      "ファイルの読み込みが完了しました\n",
      "✅ ファイルの読み込みが完了しました\n",
      "データ行数: 489\n",
      "\n",
      "列一覧:\n",
      "- ID\n",
      "- day\n",
      "- text\n",
      "\n",
      "分析実行中: cancer_diagnosis\n",
      "分析が完了しました。新しい列 '分析結果_がん診断名抽出' が追加されました。\n",
      "分析結果を 'data/analyzed_results.xlsx' に保存しました\n",
      "\n",
      "分析結果の概要:\n",
      "- 分析結果_がん診断名抽出:\n",
      "  総データ数: 489\n",
      "  ユニークな値の数: 24\n",
      "  未検出(N/A)の数: 0\n",
      "  主な抽出結果:\n",
      "    - \"子宮体部類内膜癌\": 77件\n",
      "    - \"子宮頸がん\": 38件\n",
      "    - \"卵巣がん\": 37件\n",
      "    - \"頚部腺癌\": 36件\n",
      "    - \"子宮頸癌\": 35件\n"
     ]
    },
    {
     "data": {
      "text/plain": [
       "True"
      ]
     },
     "execution_count": 8,
     "metadata": {},
     "output_type": "execute_result"
    }
   ],
   "source": [
    "# アナライザーの初期化\n",
    "try:\n",
    "    # データディレクトリの作成（存在しない場合）\n",
    "    os.makedirs(\"data\", exist_ok=True)\n",
    "    \n",
    "    # ファイルパスの設定\n",
    "    data_file = \"data/sample_data.xlsx\"\n",
    "    template_file = \"templates/prompt_templates.json\"\n",
    "    \n",
    "    analyzer = ExcelAnalyzer(\n",
    "        llm_server_url=\"http://localhost:8000/v1\",\n",
    "        template_path=template_file\n",
    "    )\n",
    "    \n",
    "    # ファイルの読み込み\n",
    "    if not analyzer.load_excel(data_file):\n",
    "        print(\"❌ ファイルの読み込みに失敗しました\")\n",
    "    else:\n",
    "        print(\"✅ ファイルの読み込みが完了しました\")\n",
    "        analyzer.display_data_info()\n",
    "except Exception as e:\n",
    "    print(f\"❌ エラーが発生しました: {str(e)}\")\n",
    "    print(\"以下を確認してください：\")\n",
    "    print(f\"1. {template_file} ファイルが存在すること\")\n",
    "    print(f\"2. {data_file} ファイルが存在すること\")\n",
    "    print(\"3. LLMサーバーが起動していること\")\n",
    "\n",
    "# 各種分析の実行\n",
    "analysis_templates = [\n",
    "    \"cancer_diagnosis\",   # がん診断名の抽出\n",
    "    #\"cancer_stage\",       # ステージ情報の抽出\n",
    "    #\"diagnostic_test\",    # 診断検査の抽出\n",
    "    #\"first_treatment\",    # 初回治療情報の抽出\n",
    "    #\"chemotherapy_info\",  # 抗がん剤治療情報の抽出\n",
    "    #\"surgery_type\",       # 術式の抽出\n",
    "    #\"special_notes\"       # 特記事項の抽出\n",
    "]\n",
    "\n",
    "# 分析の実行\n",
    "for template in analysis_templates:\n",
    "    print(f\"\\n分析実行中: {template}\")\n",
    "    if not analyzer.analyze_with_template(template):\n",
    "        print(f\"警告: {template}の分析に失敗しました\")\n",
    "\n",
    "# 結果の保存\n",
    "analyzer.save_results(\"data/analyzed_results.xlsx\")"
   ]
  },
  {
   "cell_type": "markdown",
   "metadata": {},
   "source": [
    "## 3. 分析結果の確認と保存"
   ]
  },
  {
   "cell_type": "code",
   "execution_count": 9,
   "metadata": {},
   "outputs": [
    {
     "name": "stdout",
     "output_type": "stream",
     "text": [
      "分析結果を 'sample_data_analyzed.xlsx' に保存しました\n",
      "\n",
      "分析結果の概要:\n",
      "- 分析結果_がん診断名抽出:\n",
      "  総データ数: 489\n",
      "  ユニークな値の数: 24\n",
      "  未検出(N/A)の数: 0\n",
      "  主な抽出結果:\n",
      "    - \"子宮体部類内膜癌\": 77件\n",
      "    - \"子宮頸がん\": 38件\n",
      "    - \"卵巣がん\": 37件\n",
      "    - \"頚部腺癌\": 36件\n",
      "    - \"子宮頸癌\": 35件\n",
      "\n",
      "分析結果のプレビュー:\n"
     ]
    },
    {
     "data": {
      "text/html": [
       "<div>\n",
       "<style scoped>\n",
       "    .dataframe tbody tr th:only-of-type {\n",
       "        vertical-align: middle;\n",
       "    }\n",
       "\n",
       "    .dataframe tbody tr th {\n",
       "        vertical-align: top;\n",
       "    }\n",
       "\n",
       "    .dataframe thead th {\n",
       "        text-align: right;\n",
       "    }\n",
       "</style>\n",
       "<table border=\"1\" class=\"dataframe\">\n",
       "  <thead>\n",
       "    <tr style=\"text-align: right;\">\n",
       "      <th></th>\n",
       "      <th>ID</th>\n",
       "      <th>day</th>\n",
       "      <th>text</th>\n",
       "      <th>分析結果_がん診断名抽出</th>\n",
       "    </tr>\n",
       "  </thead>\n",
       "  <tbody>\n",
       "    <tr>\n",
       "      <th>0</th>\n",
       "      <td>1</td>\n",
       "      <td>2023-01-01</td>\n",
       "      <td>組織診の結果、体部類内膜癌、Stage IVBと診断。 抗凝固薬（イグザレルト）服用中</td>\n",
       "      <td>\"子宮体部類内膜癌\"</td>\n",
       "    </tr>\n",
       "    <tr>\n",
       "      <th>1</th>\n",
       "      <td>1</td>\n",
       "      <td>2023-01-11</td>\n",
       "      <td>治療方針：腹腔鏡下子宮全摘の方針。</td>\n",
       "      <td>\"子宮体部類内膜癌\"</td>\n",
       "    </tr>\n",
       "    <tr>\n",
       "      <th>2</th>\n",
       "      <td>1</td>\n",
       "      <td>2023-02-10</td>\n",
       "      <td>手術記録：腹腔鏡下子宮全摘出術施行。手術時間187分、出血量214ml。</td>\n",
       "      <td>\"子宮体部類内膜癌\"</td>\n",
       "    </tr>\n",
       "    <tr>\n",
       "      <th>3</th>\n",
       "      <td>1</td>\n",
       "      <td>2023-02-20</td>\n",
       "      <td>術後化学療法としてドセタキセル+カルボプラチンを開始。 抗凝固薬（イグザレルト）服用中</td>\n",
       "      <td>\"子宮体部類内膜癌\"</td>\n",
       "    </tr>\n",
       "    <tr>\n",
       "      <th>4</th>\n",
       "      <td>1</td>\n",
       "      <td>2023-03-05</td>\n",
       "      <td>術後化学療法としてドセタキセル+カルボプラチンを開始。 糖尿病（HbA1c 9.1%）あり</td>\n",
       "      <td>\"子宮体部類内膜癌\"</td>\n",
       "    </tr>\n",
       "  </tbody>\n",
       "</table>\n",
       "</div>"
      ],
      "text/plain": [
       "   ID        day                                           text 分析結果_がん診断名抽出\n",
       "0   1 2023-01-01    組織診の結果、体部類内膜癌、Stage IVBと診断。 抗凝固薬（イグザレルト）服用中   \"子宮体部類内膜癌\"\n",
       "1   1 2023-01-11                              治療方針：腹腔鏡下子宮全摘の方針。   \"子宮体部類内膜癌\"\n",
       "2   1 2023-02-10           手術記録：腹腔鏡下子宮全摘出術施行。手術時間187分、出血量214ml。   \"子宮体部類内膜癌\"\n",
       "3   1 2023-02-20    術後化学療法としてドセタキセル+カルボプラチンを開始。 抗凝固薬（イグザレルト）服用中   \"子宮体部類内膜癌\"\n",
       "4   1 2023-03-05  術後化学療法としてドセタキセル+カルボプラチンを開始。 糖尿病（HbA1c 9.1%）あり   \"子宮体部類内膜癌\""
      ]
     },
     "metadata": {},
     "output_type": "display_data"
    }
   ],
   "source": [
    "# 分析結果の保存\n",
    "output_path = \"sample_data_analyzed.xlsx\"\n",
    "analyzer.save_results(output_path)\n",
    "\n",
    "# 結果の確認\n",
    "results_df = pd.read_excel(output_path)\n",
    "print(\"\\n分析結果のプレビュー:\")\n",
    "display(results_df.head())"
   ]
  },
  {
   "cell_type": "markdown",
   "metadata": {},
   "source": [
    "## 4. 特定の患者の詳細確認"
   ]
  },
  {
   "cell_type": "code",
   "execution_count": 10,
   "metadata": {},
   "outputs": [
    {
     "name": "stdout",
     "output_type": "stream",
     "text": [
      "患者ID 1 の経過:\n",
      "\n",
      "日付: 2023-01-01 00:00:00\n",
      "記録: 組織診の結果、体部類内膜癌、Stage IVBと診断。 抗凝固薬（イグザレルト）服用中\n",
      "分析結果_がん診断名抽出: \"子宮体部類内膜癌\"\n",
      "\n",
      "日付: 2023-01-11 00:00:00\n",
      "記録: 治療方針：腹腔鏡下子宮全摘の方針。\n",
      "分析結果_がん診断名抽出: \"子宮体部類内膜癌\"\n",
      "\n",
      "日付: 2023-02-10 00:00:00\n",
      "記録: 手術記録：腹腔鏡下子宮全摘出術施行。手術時間187分、出血量214ml。\n",
      "分析結果_がん診断名抽出: \"子宮体部類内膜癌\"\n",
      "\n",
      "日付: 2023-02-20 00:00:00\n",
      "記録: 術後化学療法としてドセタキセル+カルボプラチンを開始。 抗凝固薬（イグザレルト）服用中\n",
      "分析結果_がん診断名抽出: \"子宮体部類内膜癌\"\n",
      "\n",
      "日付: 2023-03-05 00:00:00\n",
      "記録: 術後化学療法としてドセタキセル+カルボプラチンを開始。 糖尿病（HbA1c 9.1%）あり\n",
      "分析結果_がん診断名抽出: \"子宮体部類内膜癌\"\n",
      "\n",
      "日付: 2023-03-13 00:00:00\n",
      "記録: 術後化学療法として毎週パクリタキセルを開始。 心機能低下（EF 55%）あり\n",
      "分析結果_がん診断名抽出: \"子宮体部類内膜癌\"\n"
     ]
    }
   ],
   "source": [
    "def display_patient_details(df, patient_id):\n",
    "    patient_data = df[df['ID'] == patient_id].sort_values('day')\n",
    "    print(f\"患者ID {patient_id} の経過:\")\n",
    "    \n",
    "    for _, row in patient_data.iterrows():\n",
    "        print(f\"\\n日付: {row['day']}\")\n",
    "        print(f\"記録: {row['text']}\")\n",
    "        \n",
    "        # 分析結果列の表示\n",
    "        analysis_columns = [col for col in df.columns if col.startswith('分析結果_')]\n",
    "        for col in analysis_columns:\n",
    "            if row[col] != 'N/A':\n",
    "                print(f\"{col}: {row[col]}\")\n",
    "\n",
    "# 最初の患者IDについて詳細を表示\n",
    "first_patient_id = results_df['ID'].iloc[0]\n",
    "display_patient_details(results_df, first_patient_id)"
   ]
  }
 ],
 "metadata": {
  "kernelspec": {
   "display_name": "myenv",
   "language": "python",
   "name": "python3"
  },
  "language_info": {
   "codemirror_mode": {
    "name": "ipython",
    "version": 3
   },
   "file_extension": ".py",
   "mimetype": "text/x-python",
   "name": "python",
   "nbconvert_exporter": "python",
   "pygments_lexer": "ipython3",
   "version": "3.12.8"
  }
 },
 "nbformat": 4,
 "nbformat_minor": 4
}
