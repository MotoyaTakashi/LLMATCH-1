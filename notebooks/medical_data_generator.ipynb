{
 "cells": [
  {
   "cell_type": "markdown",
   "metadata": {},
   "source": [
    "# 医療テキストデータ生成ツール\n",
    "\n",
    "このノートブックでは、医療記録のダミーデータを生成します。\n",
    "- 診断名、検査名、術式などの表記揺れを含む\n",
    "- 時系列に沿った自然な記録の流れを生成\n",
    "- 特記事項に数値データを含むパターンを再現"
   ]
  },
  {
   "cell_type": "code",
   "execution_count": 2,
   "metadata": {},
   "outputs": [],
   "source": [
    "import sys\n",
    "import os\n",
    "import pandas as pd\n",
    "from IPython.display import display\n",
    "\n",
    "# srcディレクトリをパスに追加\n",
    "module_path = os.path.abspath(os.path.join('..'))\n",
    "if module_path not in sys.path:\n",
    "    sys.path.append(module_path)\n",
    "\n",
    "from src.data.data_generator import MedicalDataGenerator"
   ]
  },
  {
   "cell_type": "markdown",
   "metadata": {},
   "source": [
    "## 1. データ生成器の初期化"
   ]
  },
  {
   "cell_type": "code",
   "execution_count": 3,
   "metadata": {},
   "outputs": [
    {
     "name": "stdout",
     "output_type": "stream",
     "text": [
      "生成されたデータのサンプル:\n"
     ]
    },
    {
     "data": {
      "text/html": [
       "<div>\n",
       "<style scoped>\n",
       "    .dataframe tbody tr th:only-of-type {\n",
       "        vertical-align: middle;\n",
       "    }\n",
       "\n",
       "    .dataframe tbody tr th {\n",
       "        vertical-align: top;\n",
       "    }\n",
       "\n",
       "    .dataframe thead th {\n",
       "        text-align: right;\n",
       "    }\n",
       "</style>\n",
       "<table border=\"1\" class=\"dataframe\">\n",
       "  <thead>\n",
       "    <tr style=\"text-align: right;\">\n",
       "      <th></th>\n",
       "      <th>ID</th>\n",
       "      <th>day</th>\n",
       "      <th>text</th>\n",
       "    </tr>\n",
       "  </thead>\n",
       "  <tbody>\n",
       "    <tr>\n",
       "      <th>0</th>\n",
       "      <td>1</td>\n",
       "      <td>2023-01-01</td>\n",
       "      <td>組織生検の結果、漿液性卵巣癌、Stage IAと診断。 糖尿病（HbA1c 6.8%）あり</td>\n",
       "    </tr>\n",
       "    <tr>\n",
       "      <th>1</th>\n",
       "      <td>1</td>\n",
       "      <td>2023-01-31</td>\n",
       "      <td>治療方針：開腹全摘術の方針。</td>\n",
       "    </tr>\n",
       "    <tr>\n",
       "      <th>2</th>\n",
       "      <td>1</td>\n",
       "      <td>2023-02-22</td>\n",
       "      <td>手術記録：腹腔鏡下子宮全摘出術施行。手術時間349分、出血量188ml。</td>\n",
       "    </tr>\n",
       "  </tbody>\n",
       "</table>\n",
       "</div>"
      ],
      "text/plain": [
       "   ID         day                                           text\n",
       "0   1  2023-01-01  組織生検の結果、漿液性卵巣癌、Stage IAと診断。 糖尿病（HbA1c 6.8%）あり\n",
       "1   1  2023-01-31                                 治療方針：開腹全摘術の方針。\n",
       "2   1  2023-02-22           手術記録：腹腔鏡下子宮全摘出術施行。手術時間349分、出血量188ml。"
      ]
     },
     "metadata": {},
     "output_type": "display_data"
    }
   ],
   "source": [
    "generator = MedicalDataGenerator()\n",
    "\n",
    "# 少量のデータを生成してサンプルとして表示\n",
    "sample_df = generator.generate_patient_records(num_patients=1)\n",
    "print(\"生成されたデータのサンプル:\")\n",
    "display(sample_df)"
   ]
  },
  {
   "cell_type": "markdown",
   "metadata": {},
   "source": [
    "## 2. データの生成と保存"
   ]
  },
  {
   "cell_type": "code",
   "execution_count": 4,
   "metadata": {},
   "outputs": [
    {
     "name": "stdout",
     "output_type": "stream",
     "text": [
      "生成されたデータの統計情報:\n",
      "総レコード数: 6\n",
      "患者数: 2\n",
      "期間: 2023-01-01 ～ 2023-02-13\n",
      "6件のダミーデータを../data/sample_data.xlsxに保存しました\n",
      "\n",
      "データを ../data/sample_data.xlsx に保存しました\n"
     ]
    }
   ],
   "source": [
    "# データ生成のパラメータ設定\n",
    "num_patients = 2  # 生成する患者数\n",
    "\n",
    "# データの生成\n",
    "df = generator.generate_patient_records(num_patients=num_patients)\n",
    "\n",
    "# 基本統計情報の表示\n",
    "print(f\"生成されたデータの統計情報:\")\n",
    "print(f\"総レコード数: {len(df)}\")\n",
    "print(f\"患者数: {df['ID'].nunique()}\")\n",
    "print(f\"期間: {df['day'].min()} ～ {df['day'].max()}\")\n",
    "\n",
    "# データの保存\n",
    "output_file = \"../data/sample_data.xlsx\"\n",
    "os.makedirs(os.path.dirname(output_file), exist_ok=True)\n",
    "generator.save_to_excel(output_file, num_patients=num_patients)\n",
    "print(f\"\\nデータを {output_file} に保存しました\")"
   ]
  },
  {
   "cell_type": "markdown",
   "metadata": {},
   "source": [
    "## 3. データの分析と確認"
   ]
  },
  {
   "cell_type": "code",
   "execution_count": 4,
   "metadata": {},
   "outputs": [
    {
     "name": "stdout",
     "output_type": "stream",
     "text": [
      "患者ごとの記録数:\n",
      "最小: 3\n",
      "最大: 7\n",
      "平均: 5.2\n",
      "\n",
      "テキストの長さ:\n",
      "最小: 15文字\n",
      "最大: 44文字\n",
      "平均: 28.5文字\n"
     ]
    }
   ],
   "source": [
    "# 患者ごとの記録数の分布\n",
    "records_per_patient = df['ID'].value_counts()\n",
    "print(\"患者ごとの記録数:\")\n",
    "print(f\"最小: {records_per_patient.min()}\")\n",
    "print(f\"最大: {records_per_patient.max()}\")\n",
    "print(f\"平均: {records_per_patient.mean():.1f}\")\n",
    "\n",
    "# テキストの長さの分布\n",
    "df['text_length'] = df['text'].str.len()\n",
    "print(\"\\nテキストの長さ:\")\n",
    "print(f\"最小: {df['text_length'].min()}文字\")\n",
    "print(f\"最大: {df['text_length'].max()}文字\")\n",
    "print(f\"平均: {df['text_length'].mean():.1f}文字\")"
   ]
  }
 ],
 "metadata": {
  "kernelspec": {
   "display_name": "Gene_seq",
   "language": "python",
   "name": "python3"
  },
  "language_info": {
   "codemirror_mode": {
    "name": "ipython",
    "version": 3
   },
   "file_extension": ".py",
   "mimetype": "text/x-python",
   "name": "python",
   "nbconvert_exporter": "python",
   "pygments_lexer": "ipython3",
   "version": "3.11.9"
  }
 },
 "nbformat": 4,
 "nbformat_minor": 4
}
