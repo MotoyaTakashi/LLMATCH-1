{
 "cells": [
  {
   "cell_type": "markdown",
   "metadata": {},
   "source": [
    "# 医療テキストデータ生成ツール\n",
    "\n",
    "このノートブックでは、医療記録のダミーデータを生成します。\n",
    "- 診断名、検査名、術式などの表記揺れを含む\n",
    "- 時系列に沿った自然な記録の流れを生成\n",
    "- 特記事項に数値データを含むパターンを再現"
   ]
  },
  {
   "cell_type": "code",
   "execution_count": 1,
   "metadata": {},
   "outputs": [],
   "source": [
    "import sys\n",
    "import os\n",
    "import pandas as pd\n",
    "from IPython.display import display\n",
    "\n",
    "# srcディレクトリをパスに追加\n",
    "module_path = os.path.abspath(os.path.join('..'))\n",
    "if module_path not in sys.path:\n",
    "    sys.path.append(module_path)\n",
    "\n",
    "from src.data.data_generator import MedicalDataGenerator"
   ]
  },
  {
   "cell_type": "markdown",
   "metadata": {},
   "source": [
    "## 1. データ生成器の初期化"
   ]
  },
  {
   "cell_type": "code",
   "execution_count": 2,
   "metadata": {},
   "outputs": [
    {
     "name": "stdout",
     "output_type": "stream",
     "text": [
      "生成されたデータのサンプル:\n"
     ]
    },
    {
     "data": {
      "text/html": [
       "<div>\n",
       "<style scoped>\n",
       "    .dataframe tbody tr th:only-of-type {\n",
       "        vertical-align: middle;\n",
       "    }\n",
       "\n",
       "    .dataframe tbody tr th {\n",
       "        vertical-align: top;\n",
       "    }\n",
       "\n",
       "    .dataframe thead th {\n",
       "        text-align: right;\n",
       "    }\n",
       "</style>\n",
       "<table border=\"1\" class=\"dataframe\">\n",
       "  <thead>\n",
       "    <tr style=\"text-align: right;\">\n",
       "      <th></th>\n",
       "      <th>ID</th>\n",
       "      <th>day</th>\n",
       "      <th>text</th>\n",
       "    </tr>\n",
       "  </thead>\n",
       "  <tbody>\n",
       "    <tr>\n",
       "      <th>0</th>\n",
       "      <td>1</td>\n",
       "      <td>2023-01-01</td>\n",
       "      <td>組織診の結果、卵巣腫瘍、Stage IIICと診断。</td>\n",
       "    </tr>\n",
       "    <tr>\n",
       "      <th>1</th>\n",
       "      <td>1</td>\n",
       "      <td>2023-01-27</td>\n",
       "      <td>治療方針：腹腔鏡下全摘術の方針。</td>\n",
       "    </tr>\n",
       "    <tr>\n",
       "      <th>2</th>\n",
       "      <td>1</td>\n",
       "      <td>2023-02-20</td>\n",
       "      <td>手術記録：開腹子宮全摘+両側付属器切除術施行。手術時間312分、出血量134ml。</td>\n",
       "    </tr>\n",
       "    <tr>\n",
       "      <th>3</th>\n",
       "      <td>1</td>\n",
       "      <td>2023-03-01</td>\n",
       "      <td>術後化学療法としてweekly PTXを開始。 心機能低下（EF 41%）あり</td>\n",
       "    </tr>\n",
       "    <tr>\n",
       "      <th>4</th>\n",
       "      <td>1</td>\n",
       "      <td>2023-03-10</td>\n",
       "      <td>術後化学療法としてTC療法を開始。</td>\n",
       "    </tr>\n",
       "    <tr>\n",
       "      <th>5</th>\n",
       "      <td>1</td>\n",
       "      <td>2023-03-25</td>\n",
       "      <td>術後化学療法としてDTX+CBDCAを開始。 腎機能低下（Cr 1.6 mg/dl）</td>\n",
       "    </tr>\n",
       "    <tr>\n",
       "      <th>6</th>\n",
       "      <td>1</td>\n",
       "      <td>2023-04-21</td>\n",
       "      <td>術後化学療法としてDCを開始。</td>\n",
       "    </tr>\n",
       "    <tr>\n",
       "      <th>7</th>\n",
       "      <td>2</td>\n",
       "      <td>2023-01-01</td>\n",
       "      <td>内膜組織診の結果、子宮体部類内膜癌、Stage IIIAと診断。</td>\n",
       "    </tr>\n",
       "    <tr>\n",
       "      <th>8</th>\n",
       "      <td>2</td>\n",
       "      <td>2023-01-13</td>\n",
       "      <td>治療方針：腹腔鏡下子宮全摘の方針。</td>\n",
       "    </tr>\n",
       "    <tr>\n",
       "      <th>9</th>\n",
       "      <td>2</td>\n",
       "      <td>2023-02-12</td>\n",
       "      <td>手術記録：腹腔鏡下子宮摘出術施行。手術時間338分、出血量868ml。</td>\n",
       "    </tr>\n",
       "    <tr>\n",
       "      <th>10</th>\n",
       "      <td>2</td>\n",
       "      <td>2023-03-07</td>\n",
       "      <td>術後化学療法としてTCを開始。</td>\n",
       "    </tr>\n",
       "    <tr>\n",
       "      <th>11</th>\n",
       "      <td>2</td>\n",
       "      <td>2023-03-31</td>\n",
       "      <td>術後化学療法として毎週パクリタキセルを開始。</td>\n",
       "    </tr>\n",
       "    <tr>\n",
       "      <th>12</th>\n",
       "      <td>3</td>\n",
       "      <td>2023-01-01</td>\n",
       "      <td>組織診断の結果、子宮頸部癌、Stage ICと診断。</td>\n",
       "    </tr>\n",
       "    <tr>\n",
       "      <th>13</th>\n",
       "      <td>3</td>\n",
       "      <td>2023-01-27</td>\n",
       "      <td>治療方針：腹腔鏡下子宮全摘出術の方針。</td>\n",
       "    </tr>\n",
       "    <tr>\n",
       "      <th>14</th>\n",
       "      <td>3</td>\n",
       "      <td>2023-02-26</td>\n",
       "      <td>手術記録：開腹子宮全摘施行。手術時間300分、出血量317ml。</td>\n",
       "    </tr>\n",
       "    <tr>\n",
       "      <th>15</th>\n",
       "      <td>3</td>\n",
       "      <td>2023-03-08</td>\n",
       "      <td>術後化学療法としてweekly PTXを開始。 抗凝固薬（ワーファリン）服用中</td>\n",
       "    </tr>\n",
       "  </tbody>\n",
       "</table>\n",
       "</div>"
      ],
      "text/plain": [
       "    ID         day                                        text\n",
       "0    1  2023-01-01                  組織診の結果、卵巣腫瘍、Stage IIICと診断。\n",
       "1    1  2023-01-27                            治療方針：腹腔鏡下全摘術の方針。\n",
       "2    1  2023-02-20   手術記録：開腹子宮全摘+両側付属器切除術施行。手術時間312分、出血量134ml。\n",
       "3    1  2023-03-01     術後化学療法としてweekly PTXを開始。 心機能低下（EF 41%）あり\n",
       "4    1  2023-03-10                           術後化学療法としてTC療法を開始。\n",
       "5    1  2023-03-25  術後化学療法としてDTX+CBDCAを開始。 腎機能低下（Cr 1.6 mg/dl）\n",
       "6    1  2023-04-21                             術後化学療法としてDCを開始。\n",
       "7    2  2023-01-01            内膜組織診の結果、子宮体部類内膜癌、Stage IIIAと診断。\n",
       "8    2  2023-01-13                           治療方針：腹腔鏡下子宮全摘の方針。\n",
       "9    2  2023-02-12         手術記録：腹腔鏡下子宮摘出術施行。手術時間338分、出血量868ml。\n",
       "10   2  2023-03-07                             術後化学療法としてTCを開始。\n",
       "11   2  2023-03-31                      術後化学療法として毎週パクリタキセルを開始。\n",
       "12   3  2023-01-01                  組織診断の結果、子宮頸部癌、Stage ICと診断。\n",
       "13   3  2023-01-27                         治療方針：腹腔鏡下子宮全摘出術の方針。\n",
       "14   3  2023-02-26            手術記録：開腹子宮全摘施行。手術時間300分、出血量317ml。\n",
       "15   3  2023-03-08     術後化学療法としてweekly PTXを開始。 抗凝固薬（ワーファリン）服用中"
      ]
     },
     "metadata": {},
     "output_type": "display_data"
    }
   ],
   "source": [
    "generator = MedicalDataGenerator()\n",
    "\n",
    "# 少量のデータを生成してサンプルとして表示\n",
    "sample_df = generator.generate_patient_records(num_patients=3)\n",
    "print(\"生成されたデータのサンプル:\")\n",
    "display(sample_df)"
   ]
  },
  {
   "cell_type": "markdown",
   "metadata": {},
   "source": [
    "## 2. データの生成と保存"
   ]
  },
  {
   "cell_type": "code",
   "execution_count": 3,
   "metadata": {},
   "outputs": [
    {
     "name": "stdout",
     "output_type": "stream",
     "text": [
      "生成されたデータの統計情報:\n",
      "総レコード数: 26\n",
      "患者数: 5\n",
      "期間: 2023-01-01 ～ 2023-05-06\n",
      "31件のダミーデータを../data/sample_data.xlsxに保存しました\n",
      "\n",
      "データを ../data/sample_data.xlsx に保存しました\n"
     ]
    }
   ],
   "source": [
    "# データ生成のパラメータ設定\n",
    "num_patients = 5  # 生成する患者数\n",
    "\n",
    "# データの生成\n",
    "df = generator.generate_patient_records(num_patients=num_patients)\n",
    "\n",
    "# 基本統計情報の表示\n",
    "print(f\"生成されたデータの統計情報:\")\n",
    "print(f\"総レコード数: {len(df)}\")\n",
    "print(f\"患者数: {df['ID'].nunique()}\")\n",
    "print(f\"期間: {df['day'].min()} ～ {df['day'].max()}\")\n",
    "\n",
    "# データの保存\n",
    "output_file = \"../data/sample_data.xlsx\"\n",
    "os.makedirs(os.path.dirname(output_file), exist_ok=True)\n",
    "generator.save_to_excel(output_file, num_patients=num_patients)\n",
    "print(f\"\\nデータを {output_file} に保存しました\")"
   ]
  },
  {
   "cell_type": "markdown",
   "metadata": {},
   "source": [
    "## 3. データの分析と確認"
   ]
  },
  {
   "cell_type": "code",
   "execution_count": 4,
   "metadata": {},
   "outputs": [
    {
     "name": "stdout",
     "output_type": "stream",
     "text": [
      "患者ごとの記録数:\n",
      "最小: 3\n",
      "最大: 7\n",
      "平均: 5.2\n",
      "\n",
      "テキストの長さ:\n",
      "最小: 15文字\n",
      "最大: 44文字\n",
      "平均: 28.5文字\n"
     ]
    }
   ],
   "source": [
    "# 患者ごとの記録数の分布\n",
    "records_per_patient = df['ID'].value_counts()\n",
    "print(\"患者ごとの記録数:\")\n",
    "print(f\"最小: {records_per_patient.min()}\")\n",
    "print(f\"最大: {records_per_patient.max()}\")\n",
    "print(f\"平均: {records_per_patient.mean():.1f}\")\n",
    "\n",
    "# テキストの長さの分布\n",
    "df['text_length'] = df['text'].str.len()\n",
    "print(\"\\nテキストの長さ:\")\n",
    "print(f\"最小: {df['text_length'].min()}文字\")\n",
    "print(f\"最大: {df['text_length'].max()}文字\")\n",
    "print(f\"平均: {df['text_length'].mean():.1f}文字\")"
   ]
  }
 ],
 "metadata": {
  "kernelspec": {
   "display_name": "Gene_seq",
   "language": "python",
   "name": "python3"
  },
  "language_info": {
   "codemirror_mode": {
    "name": "ipython",
    "version": 3
   },
   "file_extension": ".py",
   "mimetype": "text/x-python",
   "name": "python",
   "nbconvert_exporter": "python",
   "pygments_lexer": "ipython3",
   "version": "3.11.9"
  }
 },
 "nbformat": 4,
 "nbformat_minor": 4
}
