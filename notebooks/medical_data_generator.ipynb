{
 "cells": [
  {
   "cell_type": "markdown",
   "metadata": {},
   "source": [
    "# 医療テキストデータ生成ツール\n",
    "\n",
    "このノートブックでは、医療記録のダミーデータを生成します。\n",
    "- 診断名、検査名、術式などの表記揺れを含む\n",
    "- 時系列に沿った自然な記録の流れを生成\n",
    "- 特記事項に数値データを含むパターンを再現"
   ]
  },
  {
   "cell_type": "code",
   "execution_count": null,
   "metadata": {},
   "source": [
    "import sys\n",
    "import os\n",
    "import pandas as pd\n",
    "from IPython.display import display\n",
    "\n",
    "# srcディレクトリをパスに追加\n",
    "module_path = os.path.abspath(os.path.join('..'))\n",
    "if module_path not in sys.path:\n",
    "    sys.path.append(module_path)\n",
    "\n",
    "from src.data.data_generator import MedicalDataGenerator"
   ]
  },
  {
   "cell_type": "markdown",
   "metadata": {},
   "source": [
    "## 1. データ生成器の初期化"
   ]
  },
  {
   "cell_type": "code",
   "execution_count": null,
   "metadata": {},
   "source": [
    "generator = MedicalDataGenerator()\n",
    "\n",
    "# 少量のデータを生成してサンプルとして表示\n",
    "sample_df = generator.generate_patient_records(num_patients=3)\n",
    "print(\"生成されたデータのサンプル:\")\n",
    "display(sample_df)"
   ]
  },
  {
   "cell_type": "markdown",
   "metadata": {},
   "source": [
    "## 2. データの生成と保存"
   ]
  },
  {
   "cell_type": "code",
   "execution_count": null,
   "metadata": {},
   "source": [
    "# データ生成のパラメータ設定\n",
    "num_patients = 50  # 生成する患者数\n",
    "\n",
    "# データの生成\n",
    "df = generator.generate_patient_records(num_patients=num_patients)\n",
    "\n",
    "# 基本統計情報の表示\n",
    "print(f\"生成されたデータの統計情報:\")\n",
    "print(f\"総レコード数: {len(df)}\")\n",
    "print(f\"患者数: {df['ID'].nunique()}\")\n",
    "print(f\"期間: {df['day'].min()} ～ {df['day'].max()}\")\n",
    "\n",
    "# データの保存\n",
    "output_file = \"../data/sample_data.xlsx\"\n",
    "os.makedirs(os.path.dirname(output_file), exist_ok=True)\n",
    "generator.save_to_excel(output_file, num_patients=num_patients)\n",
    "print(f\"\\nデータを {output_file} に保存しました\")"
   ]
  },
  {
   "cell_type": "markdown",
   "metadata": {},
   "source": [
    "## 3. データの分析と確認"
   ]
  },
  {
   "cell_type": "code",
   "execution_count": null,
   "metadata": {},
   "source": [
    "# 患者ごとの記録数の分布\n",
    "records_per_patient = df['ID'].value_counts()\n",
    "print(\"患者ごとの記録数:\")\n",
    "print(f\"最小: {records_per_patient.min()}\")\n",
    "print(f\"最大: {records_per_patient.max()}\")\n",
    "print(f\"平均: {records_per_patient.mean():.1f}\")\n",
    "\n",
    "# テキストの長さの分布\n",
    "df['text_length'] = df['text'].str.len()\n",
    "print(\"\\nテキストの長さ:\")\n",
    "print(f\"最小: {df['text_length'].min()}文字\")\n",
    "print(f\"最大: {df['text_length'].max()}文字\")\n",
    "print(f\"平均: {df['text_length'].mean():.1f}文字\")"
   ]
  }
 ],
 "metadata": {
  "kernelspec": {
   "display_name": "Python 3",
   "language": "python",
   "name": "python3"
  },
  "language_info": {
   "codemirror_mode": {
    "name": "ipython",
    "version": 3
   },
   "file_extension": ".py",
   "mimetype": "text/x-python",
   "name": "python",
   "nbconvert_exporter": "python",
   "pygments_lexer": "ipython3",
   "version": "3.8.0"
  }
 },
 "nbformat": 4,
 "nbformat_minor": 4
}