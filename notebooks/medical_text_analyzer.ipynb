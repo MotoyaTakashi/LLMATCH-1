{
 "cells": [
  {
   "cell_type": "markdown",
   "metadata": {},
   "source": [
    "# 医療テキスト分析システム\n",
    "\n",
    "このノートブックでは以下の機能を実行できます：\n",
    "1. ダミーデータの生成\n",
    "2. LLMサーバーの起動確認\n",
    "3. テキスト分析の実行\n",
    "4. 結果の確認と保存"
   ]
  },
  {
   "cell_type": "code",
   "execution_count": 1,
   "metadata": {},
   "outputs": [
    {
     "ename": "ModuleNotFoundError",
     "evalue": "No module named 'vllm'",
     "output_type": "error",
     "traceback": [
      "\u001b[0;31m---------------------------------------------------------------------------\u001b[0m",
      "\u001b[0;31mModuleNotFoundError\u001b[0m                       Traceback (most recent call last)",
      "Cell \u001b[0;32mIn[1], line 13\u001b[0m\n\u001b[1;32m     10\u001b[0m     sys\u001b[38;5;241m.\u001b[39mpath\u001b[38;5;241m.\u001b[39mappend(module_path)\n\u001b[1;32m     12\u001b[0m \u001b[38;5;28;01mfrom\u001b[39;00m \u001b[38;5;21;01msrc\u001b[39;00m\u001b[38;5;21;01m.\u001b[39;00m\u001b[38;5;21;01mdata\u001b[39;00m\u001b[38;5;21;01m.\u001b[39;00m\u001b[38;5;21;01mdata_generator\u001b[39;00m \u001b[38;5;28;01mimport\u001b[39;00m MedicalDataGenerator\n\u001b[0;32m---> 13\u001b[0m \u001b[38;5;28;01mfrom\u001b[39;00m \u001b[38;5;21;01msrc\u001b[39;00m\u001b[38;5;21;01m.\u001b[39;00m\u001b[38;5;21;01manalyzer\u001b[39;00m\u001b[38;5;21;01m.\u001b[39;00m\u001b[38;5;21;01mexcel_analyzer\u001b[39;00m \u001b[38;5;28;01mimport\u001b[39;00m ExcelAnalyzer\n",
      "File \u001b[0;32m~/Library/CloudStorage/OneDrive-共有ライブラリ-onedrive/200大学院/20241201LLMATCH/LLMATCH/src/analyzer/__init__.py:3\u001b[0m\n\u001b[1;32m      1\u001b[0m \u001b[38;5;66;03m# -*- coding: utf-8 -*-\u001b[39;00m\n\u001b[1;32m      2\u001b[0m \u001b[38;5;28;01mfrom\u001b[39;00m \u001b[38;5;21;01m.\u001b[39;00m\u001b[38;5;21;01mexcel_analyzer\u001b[39;00m \u001b[38;5;28;01mimport\u001b[39;00m ExcelAnalyzer\n\u001b[0;32m----> 3\u001b[0m \u001b[38;5;28;01mfrom\u001b[39;00m \u001b[38;5;21;01m.\u001b[39;00m\u001b[38;5;21;01mllm_server\u001b[39;00m \u001b[38;5;28;01mimport\u001b[39;00m app, LLM \n",
      "File \u001b[0;32m~/Library/CloudStorage/OneDrive-共有ライブラリ-onedrive/200大学院/20241201LLMATCH/LLMATCH/src/analyzer/llm_server.py:1\u001b[0m\n\u001b[0;32m----> 1\u001b[0m \u001b[38;5;28;01mfrom\u001b[39;00m \u001b[38;5;21;01mvllm\u001b[39;00m \u001b[38;5;28;01mimport\u001b[39;00m LLM, SamplingParams\n\u001b[1;32m      2\u001b[0m \u001b[38;5;28;01mfrom\u001b[39;00m \u001b[38;5;21;01mfastapi\u001b[39;00m \u001b[38;5;28;01mimport\u001b[39;00m FastAPI, HTTPException\n\u001b[1;32m      3\u001b[0m \u001b[38;5;28;01mfrom\u001b[39;00m \u001b[38;5;21;01mpydantic\u001b[39;00m \u001b[38;5;28;01mimport\u001b[39;00m BaseModel\n",
      "\u001b[0;31mModuleNotFoundError\u001b[0m: No module named 'vllm'"
     ]
    }
   ],
   "source": [
    "import sys\n",
    "import os\n",
    "import pandas as pd\n",
    "import requests\n",
    "from IPython.display import display\n",
    "\n",
    "# srcディレクトリをパスに追加\n",
    "module_path = os.path.abspath(os.path.join('..'))\n",
    "if module_path not in sys.path:\n",
    "    sys.path.append(module_path)\n",
    "\n",
    "from src.data.data_generator import MedicalDataGenerator\n",
    "from src.analyzer.excel_analyzer import ExcelAnalyzer"
   ]
  },
  {
   "cell_type": "markdown",
   "metadata": {},
   "source": [
    "## 1. LLMサーバーの起動確認\n",
    "\n",
    "**注意**: 別ターミナルで `python src/analyzer/llm_server.py` を実行してサーバーを起動しておく必要があります。"
   ]
  },
  {
   "cell_type": "code",
   "execution_count": null,
   "metadata": {},
   "outputs": [],
   "source": [
    "def check_llm_server():\n",
    "    try:\n",
    "        response = requests.get(\"http://localhost:8000/docs\")\n",
    "        if response.status_code == 200:\n",
    "            print(\"✅ LLMサーバーが正常に動作しています\")\n",
    "            return True\n",
    "    except:\n",
    "        print(\"❌ LLMサーバーに接続できません\")\n",
    "        print(\"別ターミナルで以下のコマンドを実行してください：\")\n",
    "        print(\"python src/analyzer/llm_server.py\")\n",
    "        return False\n",
    "\n",
    "check_llm_server()"
   ]
  },
  {
   "cell_type": "markdown",
   "metadata": {},
   "source": [
    "## 2. ダミーデータの生成\n",
    "\n",
    "分析用のサンプルデータを生成します。"
   ]
  },
  {
   "cell_type": "code",
   "execution_count": null,
   "metadata": {},
   "outputs": [],
   "source": [
    "# ジェネレーターの初期化\n",
    "generator = MedicalDataGenerator()\n",
    "\n",
    "# データの生成（患者数は調整可能）\n",
    "df = generator.generate_patient_records(num_patients=10)\n",
    "\n",
    "# 生成されたデータの確認\n",
    "print(\"生成されたデータのサンプル:\")\n",
    "display(df.head())\n",
    "\n",
    "# データの保存\n",
    "output_file = \"../data/sample_data.xlsx\"\n",
    "os.makedirs(os.path.dirname(output_file), exist_ok=True)\n",
    "generator.save_to_excel(output_file, num_patients=10)"
   ]
  },
  {
   "cell_type": "markdown",
   "metadata": {},
   "source": [
    "## 3. テキスト分析の実行\n",
    "\n",
    "生成したデータに対して、各種分析を実行します。"
   ]
  },
  {
   "cell_type": "code",
   "execution_count": null,
   "metadata": {},
   "outputs": [],
   "source": [
    "# アナライザーの初期化\n",
    "analyzer = ExcelAnalyzer(\n",
    "    file_path=\"../data/sample_data.xlsx\",\n",
    "    llm_server_url=\"http://localhost:8000\",\n",
    "    template_path=\"../templates/prompt_templates.json\"\n",
    ")\n",
    "\n",
    "# ファイルの読み込み\n",
    "if not analyzer.load_excel():\n",
    "    print(\"❌ ファイルの読み込みに失敗しました\")\n",
    "else:\n",
    "    print(\"✅ ファイルの読み込みが完了しました\")\n",
    "    analyzer.display_data_info()"
   ]
  },
  {
   "cell_type": "code",
   "execution_count": null,
   "metadata": {},
   "outputs": [],
   "source": [
    "# 各種分析の実行\n",
    "analysis_templates = [\n",
    "    \"cancer_diagnosis\",   # がん診断名の抽出\n",
    "    \"cancer_stage\",       # ステージ情報の抽出\n",
    "    \"important_dates\",    # 重要日付の抽出\n",
    "    \"diagnostic_test\",    # 診断検査の抽出\n",
    "    \"first_treatment\",    # 初回治療情報の抽出\n",
    "    \"chemotherapy_info\",  # 抗がん剤治療情報の抽出\n",
    "    \"surgery_type\",       # 術式の抽出\n",
    "    \"special_notes\"       # 特記事項の抽出\n",
    "]\n",
    "\n",
    "for template in analysis_templates:\n",
    "    print(f\"\\n分析実行中: {template}\")\n",
    "    analyzer.analyze_with_template(template)"
   ]
  },
  {
   "cell_type": "markdown",
   "metadata": {},
   "source": [
    "## 4. 分析結果の確認と保存"
   ]
  },
  {
   "cell_type": "code",
   "execution_count": null,
   "metadata": {},
   "outputs": [],
   "source": [
    "# 分析結果の保存\n",
    "output_path = \"../data/sample_data_analyzed.xlsx\"\n",
    "analyzer.save_results(output_path)\n",
    "\n",
    "# 結果の確認\n",
    "results_df = pd.read_excel(output_path)\n",
    "print(\"\\n分析結果のプレビュー:\")\n",
    "display(results_df.head())"
   ]
  },
  {
   "cell_type": "markdown",
   "metadata": {},
   "source": [
    "## 5. 特定の患者の詳細確認"
   ]
  },
  {
   "cell_type": "code",
   "execution_count": null,
   "metadata": {},
   "outputs": [],
   "source": [
    "def display_patient_details(df, patient_id):\n",
    "    patient_data = df[df['ID'] == patient_id].sort_values('day')\n",
    "    print(f\"患者ID {patient_id} の経過:\")\n",
    "    \n",
    "    for _, row in patient_data.iterrows():\n",
    "        print(f\"\\n日付: {row['day']}\")\n",
    "        print(f\"記録: {row['text']}\")\n",
    "        \n",
    "        # 分析結果列の表示\n",
    "        analysis_columns = [col for col in df.columns if col.startswith('分析結果_')]\n",
    "        for col in analysis_columns:\n",
    "            if row[col] != 'N/A':\n",
    "                print(f\"{col}: {row[col]}\")\n",
    "\n",
    "# 最初の患者IDについて詳細を表示\n",
    "first_patient_id = results_df['ID'].iloc[0]\n",
    "display_patient_details(results_df, first_patient_id)"
   ]
  }
 ],
 "metadata": {
  "kernelspec": {
   "display_name": "Gene_seq",
   "language": "python",
   "name": "python3"
  },
  "language_info": {
   "codemirror_mode": {
    "name": "ipython",
    "version": 3
   },
   "file_extension": ".py",
   "mimetype": "text/x-python",
   "name": "python",
   "nbconvert_exporter": "python",
   "pygments_lexer": "ipython3",
   "version": "3.11.9"
  }
 },
 "nbformat": 4,
 "nbformat_minor": 4
}
